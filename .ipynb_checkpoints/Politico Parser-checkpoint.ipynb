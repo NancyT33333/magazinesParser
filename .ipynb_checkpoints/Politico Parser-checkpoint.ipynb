{
 "cells": [
  {
   "cell_type": "markdown",
   "metadata": {},
   "source": [
    "# Removing \\t from articles' texts"
   ]
  },
  {
   "cell_type": "code",
   "execution_count": 186,
   "metadata": {},
   "outputs": [],
   "source": [
    "with open(\"news1.txt\", 'a') as s:\n",
    "    with open(\"news.txt\", 'r') as f:\n",
    "        for i in f:\n",
    "            s.write(i.rstrip('\\n'))"
   ]
  },
  {
   "cell_type": "code",
   "execution_count": 3,
   "metadata": {},
   "outputs": [],
   "source": [
    "import bs4, re, requests\n",
    "from bs4 import BeautifulSoup"
   ]
  },
  {
   "cell_type": "code",
   "execution_count": 50,
   "metadata": {},
   "outputs": [],
   "source": [
    "link=\"https://www.washingtonpost.com/news/dr-gridlock/wp/2018/01/18/march-for-life-and-womens-march-will-bring-protesters-and-traffic/\""
   ]
  },
  {
   "cell_type": "code",
   "execution_count": 51,
   "metadata": {},
   "outputs": [],
   "source": [
    "req = requests.get(link)\n",
    "soup = BeautifulSoup(req.text, 'html.parser')\n"
   ]
  },
  {
   "cell_type": "markdown",
   "metadata": {},
   "source": [
    "## to be sure text is here"
   ]
  },
  {
   "cell_type": "code",
   "execution_count": 52,
   "metadata": {
    "scrolled": true
   },
   "outputs": [
    {
     "name": "stdout",
     "output_type": "stream",
     "text": [
      "Massive crowds bearing banners and placards will be back in the nation’s capital this weekend, presenting travel challenges for commuters and the participants themselves.\n",
      "The March for Life will draw thousands of abortion opponents from across the country Friday for a march that starts on the Mall and ends outside the U.S. Supreme Court.\n",
      "Then Saturday, as many as 10,000 women and supporters are expected to march to the White House for the Women’s March on Washington, one of many demonstrations across the country to promote women’s participation in politics, voting and other civic engagements. The event follows up last year’s massive gathering of women in protest of President Trump’s disparagement of women, minorities and immigrants.\n",
      "[Trump will address Friday’s March for Life via satellite. Here’s what abortion opponents want.]\n",
      "If you are coming downtown for either march by car, bus or transit, the key is to have a plan, be ready to walk and have lots of patience as you’re likely to encounter delays and crowding along your trip.\n",
      "During both demonstrations, marchers are expected to flow down Constitution Avenue, fill in local streets and rally at the Mall. Drivers will encounter rolling closures, and public transit users should expect longer waits at Metro stations and crowding on platforms and trains.\n",
      "March participants are encouraged to purchase SmarTrip cards in advance to avoid the crush at fare machines. Riders age 5 and older need their own card to enter the system. Metro officials also recommend planning the trip to avoid transferring. Each Metro line has a station near the Mall.\n",
      "Here’s what you need to know for each event:\n",
      "The annual protest against abortion begins with a noon rally at 12th Street on the Mall, in between Madison and Jefferson drives, just east of the Washington Monument. The nearest Metro stations are Federal Triangle and Smithsonian.\n",
      "At about 1 p.m., the tens of thousands of participants will commence their march east along Constitution Avenue and up to First Street NE, to the front of the U.S. Supreme Court. The nearest Metro stations for the dispersing crowd will be Capitol South and Union Station.\n",
      "Road closures will begin Friday morning, but the march’s main impact on traffic will be midday and during the afternoon rush hour. After the march, many participants plan to visit congressional offices. For commuters, this may mean extra riders on public transit during the evening rush.\n",
      "D.C. police plan to close these streets:\n",
      "Metro is expected to run regular service Friday. In the past, the transit authority has urged marchers to wait until after the morning rush to get to the Mall. But expect trains and platforms to be more crowded, especially in the afternoon. Several Metrobus routes that travel on Constitution Avenue may be detoured.\n",
      "This year, organizers say they want to use the event to encourage and support women to run for office, to register to vote and to form partnerships with groups that are promoting civic engagement. Demonstrators will gather for a rally at 11 a.m. at the Reflecting Pool facing the Lincoln Memorial. The nearest Metro stations are Foggy Bottom and Smithsonian.  (But it is quite a walk to the memorial from either stop).\n",
      "At about 1 p.m., participants will line up to march toward the White House. As of Wednesday night organizers had not released a march route, but they are expected to walk along Constitution Avenue then turn north on either 17th Street or 15th Street to get to Lafayette Square, in front of the White House. The nearest Metro stations for the dispersing crowd will be McPherson Square, Farragut North, Farragut West and Metro Center.\n",
      "Road restrictions will not be as extensive as for the March for Life on Friday. D.C. police said there will be a temporary road closure of 17th Street NW from Constitution Avenue to H Street. Event organizers say they also anticipate some rolling closures. These closures might also affect Metrobuses in the area.\n",
      "Saturday transit options may be trickier because Metro service will be adjusted for safety and maintenance work. The Red Line will run every 12 to 24 minutes, depending on where you are catching the train. Orange, Blue and Silver lines will run every 24 minutes and the Yellow and Green lines every 15 minutes.\n"
     ]
    }
   ],
   "source": [
    "listofcontent=soup.find(\"article\", class_=\"paywall\") \n",
    "for i in listofcontent.find_all(\"p\"):\n",
    "    print(i.get_text())"
   ]
  },
  {
   "cell_type": "code",
   "execution_count": 49,
   "metadata": {},
   "outputs": [
    {
     "data": {
      "text/plain": [
       "'January 21, 2017'"
      ]
     },
     "execution_count": 49,
     "metadata": {},
     "output_type": "execute_result"
    }
   ],
   "source": [
    "soup.find(\"span\", class_=\"author-timestamp\").get_text()"
   ]
  },
  {
   "cell_type": "code",
   "execution_count": 53,
   "metadata": {},
   "outputs": [],
   "source": [
    "with open(\"article.txt\", 'a') as article:\n",
    "    \n",
    "    article.write(soup.find(\"span\", class_=\"author-timestamp\").get_text()+\"\\t\")\n",
    "    article.write(soup.find(\"h1\").get_text()+\"\\t\")\n",
    "    for i in listofcontent.find_all(\"p\"):\n",
    "        article.write(i.get_text()+\"  \")"
   ]
  },
  {
   "cell_type": "code",
   "execution_count": null,
   "metadata": {},
   "outputs": [],
   "source": []
  }
 ],
 "metadata": {
  "kernelspec": {
   "display_name": "Python 3",
   "language": "python",
   "name": "python3"
  },
  "language_info": {
   "codemirror_mode": {
    "name": "ipython",
    "version": 3
   },
   "file_extension": ".py",
   "mimetype": "text/x-python",
   "name": "python",
   "nbconvert_exporter": "python",
   "pygments_lexer": "ipython3",
   "version": "3.6.6"
  }
 },
 "nbformat": 4,
 "nbformat_minor": 2
}
