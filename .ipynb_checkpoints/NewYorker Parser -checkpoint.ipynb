{
 "cells": [
  {
   "cell_type": "markdown",
   "metadata": {},
   "source": [
    "# Removing \\t from articles' texts"
   ]
  },
  {
   "cell_type": "code",
   "execution_count": 50,
   "metadata": {},
   "outputs": [],
   "source": [
    "with open(\"news1.txt\", 'a') as s:\n",
    "    with open(\"article.txt\", 'r') as f:\n",
    "        for i in f:\n",
    "            s.write(i.rstrip('\\n'))"
   ]
  },
  {
   "cell_type": "code",
   "execution_count": 1,
   "metadata": {},
   "outputs": [],
   "source": [
    "import bs4, re, requests\n",
    "from bs4 import BeautifulSoup"
   ]
  },
  {
   "cell_type": "code",
   "execution_count": 59,
   "metadata": {},
   "outputs": [],
   "source": [
    "link=\"https://www.newyorker.com/news/news-desk/women-and-men-in-tahrir-square\""
   ]
  },
  {
   "cell_type": "code",
   "execution_count": 60,
   "metadata": {},
   "outputs": [],
   "source": [
    "req = requests.get(link)\n",
    "soup = BeautifulSoup(req.text, 'html.parser')\n"
   ]
  },
  {
   "cell_type": "markdown",
   "metadata": {},
   "source": [
    "## to be sure text is here"
   ]
  },
  {
   "cell_type": "code",
   "execution_count": 61,
   "metadata": {},
   "outputs": [
    {
     "name": "stdout",
     "output_type": "stream",
     "text": [
      "On Monday morning, several hundred protesters gathered on the steps of the Supreme Court, wearing ponchos and huddling under umbrellas to shelter themselves from the rain. They listened quietly as several survivors of sexual assault stood in front of a cluster of television microphones and told their stories.\n",
      "“I was twelve years old, he was fifteen,” said one speaker, who stood surrounded by women who put their hands on her back in support. “The fact that he was a teen-ager does not lessen anything, does not minimize the lifelong effects that I’ve lived with for forty-six years.”\n",
      "Another speaker: “Thirty-five years from now, I will still remember every single detail that I remember now.”\n",
      "To each account, the audience responded: “We believe you.”\n",
      "The crowd was overwhelmingly comprised of women: union members wearing ponchos, from a Service Employees International Union 32BJ chapter from the D.C. area, a contingent from Maine distributing signs that read “Susan Collins VOTE NO or we will fund your opponent.” Some staffers from the Women’s March organization looked polished in business dress and red lipstick; those from the Center for Popular Democracy Action were more casual in jeans and sneakers. Several women wore knock-offs of the army coat that Melania Trump had on when she visited immigrant children forcibly separated from their parents. Instead of graffiti-inspired font reading “I REALLY DON’T CARE, DO U,” the jackets said, “November is coming.” There were also students from Yale Law School, more than a hundred of them, dressed like a disgruntled cheerleading squad in Yale sweaters and sweatshirts and holding a banner that said, “Yale Law School objects to Kavanaugh.” Women distributed white buttons with a black font that read, “I believe Dr. Christine Blasey Ford.”\n",
      "In recent months, organizations including Women’s March, Housing Works, and the Center for Popular Democracy, an umbrella group of local progressive organizations, have increasingly resorted to direct action over less confrontational strategies like letter writing and street protests. In the past year, hundreds of people have been arrested during Capitol Hill sit-ins and demonstrations against the Republican-led tax cuts, the attempts to repeal the Affordable Care Act, and Trump’s termination of the Deferred Action for Childhood Arrivals program. Last June, on one day alone, almost six hundred people were arrested during a sit-in protesting Trump’s policy of separating immigrant children from their parents. The protests against Kavanaugh’s nomination began in early August, and hundreds have been arrested since then.\n",
      "“I’ve been an organizer for twenty years, and nonviolent civil disobedience has always been a tool in the advocacy toolbox, but it’s usually one that takes people a long time to be willing to engage in,” Jennifer Flynn Walker, the Center for Popular Democracy’s director of mobilization and advocacy, said. “This was new activists, many of whom had become politically active right after Trump was elected and then immediately were willing to ramp up to engage in civil disobedience.”\n",
      "On Monday, Flynn Walker, a wiry woman with loose blond hair, radiated intensity as she invited protesters to give speeches, and gently herded them into camera-ready arrangements. Even before Blasey Ford came forward, she told me, it had not been hard to find people willing to come to Washington to protest Brett Kavanaugh’s nomination. “People think we have this amazing organizing machine or something, but it was really just that we told people where to line up and, en masse, people lined up,” she said. For the hearings early this month, “Women just showed up, they got themselves there, they fundraised, they fundraised for our organizations to help them get there, they fundraised for themselves, to get there, they set up GoFundMe, they set up CrowdRise, they did whatever they could do.” Many Americans saw the spectacle of Capitol Police dragging out Women’s March members, including Linda Sarsour, Bob Bland, and Winnie Wong, during the first days of the hearings. At times, the protesters, the vast majority of them women, disrupted proceedings nearly every fifteen minutes. Senator John Cornyn, a Republican from Texas, referred to it as “mob rule.” Senator Orrin Hatch, a Republican from Utah, called it “insolence.”\n",
      "From the Supreme Court on Monday, the protesters proceeded to the Hart Senate Office Building. As they waited to pass through security, they formed a line that filled the sidewalks for more than a block. Passing cars honked in solidarity. Sarsour, holding a black umbrella, stood on a slick raised platform and recorded a message to her followers about the action. When she finished, I asked her how the allegations against Kavanaugh had changed the opposition to his nomination.\n",
      "“I think it’s giving courage just to other women to speak about their stories in general,” she said. “It’s been very triggering for women, triggering for some of us who are not ready to share, so being here today for us is very important, we feel like we’ve created a movement of people who see what’s at stake here and are willing to put it all on the line.”\n",
      "Inside, demonstrators congregated in the sky-lit atrium around Alexander Calder’s black sculpture “Mountains and Clouds.” They held signs that read, “One sexual predator on the Supreme Court is enough” and “I was assaulted 31 years ago. I’m not mixed up but I’m angry and I VOTE.” A Capitol Police officer waded into the crowd and spoke through a bullhorn in indecipherable static. The message was relayed around the room: Demonstrating is prohibited in the Capitol buildings, but visiting is not. According to District of Columbia law, “the term ‘demonstration’ means marching, congregating, standing, sitting, lying down, parading, demonstrating, or patrolling by one or more persons, with or without signs, for the purpose of persuading one or more individuals, or the public, or to protest some action, attitude, or belief.”\n",
      "The protesters lowered or folded their signs. They ceased chanting.\n",
      "I started chatting with three people wearing scrubs and lab coats. Elizabeth Deutsch, a nurse from Vermont, works for Housing Works. Her companions, Sanjeev Sriram and Christopher Jentoft, were both doctors. Jentoft, a family physician from rural Arizona, told me that “half the population he serves” would be affected if Kavanaugh were appointed to the Supreme Court. I asked what population he served. “Humans,” he said. “Women.”\n",
      "The first arrests happened around ten-thirty in the morning, outside the office of Susan Collins, where visitors were telling their stories of sexual assault to Collins’s staffers. Once they finished, a self-selected group of activists began breaking the law against demonstrations in earnest, and those who wished to avoid arrest moved behind the police line. Looking a little weary, a cluster of a dozen or so police officers, many of whom had zip ties hanging from their uniforms, put on latex gloves and proceeded to the end of the hallway to begin arrests. According to a statement later released by Capitol Police, forty-six people were arrested near Collins’s office and charged with “Crowding, Obstructing, or Incommoding.”\n",
      "As the morning progressed, survivors of sexual assault told stories outside of Senator Jeff Flake’s office, where a bewildered-seeming staffer stood in the doorway and listened. Ady Barkan, a progressive activist who has become a regular in the halls of the Capitol, was there, too. Last year, Barkan, who has A.L.S., became famous after a video clip circulated of him urging Flake to “be an American hero” and oppose the Republican tax cuts. Now Barkan cut a figure of pathos, surrounded by supporters wearing black “Be a Hero” T-shirts as he requested another meeting with Flake.\n",
      "The final action of the day happened in the rotunda of the Russell Senate Office Building. After more speeches by sexual-assault survivors, and one by the son of a sexual-assault survivor, a group of men, led by Barkan and joined by several women, handed their backpacks and belongings to friends and gathered together for the cameras. They chanted, “We believe in women,” and “Fight back,” until another eighty-two people were arrested and taken away.\n",
      "During this last round of arrests, I followed Flynn Walker and Ana María Archila, the co-executive director of the Center for Popular Democracy, from the Russell Senate Office Building back to the Hart Senate Office Building, where the group was to reconvene. Flynn Walker was lugging a camping backpack handed to her by a woman who made a last-minute decision to get arrested. Archila had testified as a survivor of sexual assault outside of Senator Jeff Flake’s office earlier in the day. Her eyes were still red from the aftermath.\n",
      "We walked through the tunnel that connects the two senate office buildings, taking a maintenance route with exposed pipes and workers moving cargo on dollies.\n",
      "“I learned this way when we did one of the DACA protests,” Archila said. “The young people from United We Dream knew the building so well.”\n",
      "We found a side exit and climbed some steps, and soon we were back beneath the Calder sculpture, where the remaining demonstrators had discovered that the Capitol Police would tolerate them standing silently with raised fists. I asked Flynn Walker if there would be protests on Thursday, when Blasey Ford and Kavanaugh are scheduled to testify to the Senate Judiciary Committee.\n",
      "“We will be here en masse,” Flynn Walker said. “There will be thousands of people lining the halls, being quiet. It will be so quiet that a pin can drop. We’ll be surrounding the hearing room in a sign of support for Dr. Christine Blasey Ford, and we’re not going to protest. We’re going to let her words and his words stand. Until Friday. And then we’ll do something else.”\n"
     ]
    }
   ],
   "source": [
    "listofcontent=soup.find_all(\"div\", class_=\"SectionBreak\") \n",
    "parahs=listofcontent[1].find_all('p')\n",
    "for i in parahs:\n",
    "    print(i.get_text())"
   ]
  },
  {
   "cell_type": "code",
   "execution_count": 62,
   "metadata": {},
   "outputs": [],
   "source": [
    "with open(\"article.txt\", 'a') as article:\n",
    "    \n",
    "    article.write(soup.find(\"p\", class_=\"ArticleTimestamp__timestamp___1klks\").get_text()+\"\\t\")\n",
    "    article.write(soup.find(\"h1\").get_text()+\"\\t\")\n",
    "    for i in parahs:\n",
    "        article.write(i.get_text()+\"  \")"
   ]
  },
  {
   "cell_type": "code",
   "execution_count": 23,
   "metadata": {},
   "outputs": [
    {
     "data": {
      "text/plain": [
       "'The Changing Shape of Protests in the Second Year of the Trump Era'"
      ]
     },
     "execution_count": 23,
     "metadata": {},
     "output_type": "execute_result"
    }
   ],
   "source": [
    "soup.find(\"h1\").get_text()"
   ]
  },
  {
   "cell_type": "code",
   "execution_count": null,
   "metadata": {},
   "outputs": [],
   "source": []
  }
 ],
 "metadata": {
  "kernelspec": {
   "display_name": "Python 3",
   "language": "python",
   "name": "python3"
  },
  "language_info": {
   "codemirror_mode": {
    "name": "ipython",
    "version": 3
   },
   "file_extension": ".py",
   "mimetype": "text/x-python",
   "name": "python",
   "nbconvert_exporter": "python",
   "pygments_lexer": "ipython3",
   "version": "3.6.6"
  }
 },
 "nbformat": 4,
 "nbformat_minor": 2
}
