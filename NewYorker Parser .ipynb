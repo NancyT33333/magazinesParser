{
 "cells": [
  {
   "cell_type": "markdown",
   "metadata": {},
   "source": [
    "# Removing \\t from articles' texts"
   ]
  },
  {
   "cell_type": "code",
   "execution_count": 50,
   "metadata": {},
   "outputs": [],
   "source": [
    "with open(\"news1.txt\", 'a') as s:\n",
    "    with open(\"article.txt\", 'r') as f:\n",
    "        for i in f:\n",
    "            s.write(i.rstrip('\\n'))"
   ]
  },
  {
   "cell_type": "code",
   "execution_count": 1,
   "metadata": {},
   "outputs": [],
   "source": [
    "import bs4, re, requests\n",
    "from bs4 import BeautifulSoup"
   ]
  },
  {
   "cell_type": "code",
   "execution_count": 87,
   "metadata": {},
   "outputs": [],
   "source": [
    "link=\"https://www.newyorker.com/magazine/2017/03/20/a-marching-band-at-the-march\""
   ]
  },
  {
   "cell_type": "code",
   "execution_count": null,
   "metadata": {},
   "outputs": [],
   "source": [
    "req = requests.get(link)\n",
    "soup = BeautifulSoup(req.text, 'html.parser')\n"
   ]
  },
  {
   "cell_type": "markdown",
   "metadata": {},
   "source": [
    "## to be sure text is here"
   ]
  },
  {
   "cell_type": "code",
   "execution_count": 85,
   "metadata": {},
   "outputs": [
    {
     "name": "stdout",
     "output_type": "stream",
     "text": [
      "In 1848, at Wesleyan Chapel, in Seneca Falls, New York, Elizabeth Cady Stanton, a suffragist and abolitionist married to a co-founder of the Republican Party, submitted the Declaration of Sentiments, a revolutionary document that did for the cause of equal rights for women what the Declaration of Independence had done for the cause of the colonists and their grievances against the Crown.\n",
      "“The history of mankind,” she wrote, “is a history of repeated injuries and usurpations on the part of man toward woman, having in direct object the establishment of an absolute tyranny over her. To prove this, let facts be submitted to a candid world.”\n",
      "And with that magnificent rhetorical salvo Stanton laid out the facts of a patriarchal society, its economic subjugation of women, its social strictures, the limits on education, the enforced voicelessness of women in the affairs of state and church. According to Frederick Douglass, who signed the declaration, along with thirty-one other men and sixty-eight women, Stanton succeeded at Seneca Falls in propelling a “grand movement for attaining the civil, social, political, and religious rights of women.” Stanton and her colleagues had staged a rebellion against what she called the “disenfranchisement of one-half the people of this country, their social and religious degradation.”\n",
      "At the Inauguration of Donald Trump, on Friday, Hillary Clinton appeared on the steps of the Capitol wearing a white coat, the color of the suffragettes. No small part of her evident pain, to say nothing of the pain of the majority of the American electorate, was her inability to make good on the promise of Seneca Falls. This was to have been her day and a signal day in the history of feminism—the equivalent marker for the rights of women that the first Inaugural of Barack Obama had been for civil rights.\n",
      "Clinton, who has been seen only rarely since Election Day—taking a walk in the woods of Westchester County, appearing at the final performance of “The Color Purple”—was not required to come to the Inauguration as either a former First Lady or a defeated rival by anything other than custom and grace. But she refused to indulge fatigue or bitterness, though she surely has a right to both. Under the scudding clouds of Washington, her expressions ranged from the pained to the dismayed, with occasional moments of effortful cheer. Here and there, she leaned in to talk to her husband, or to Michelle Obama. She paused to greet Jason Chaffetz, a petty Javert of Capitol Hill, who led the committee that investigated Clinton's e-mails and who posted a picture of the two of them on his Instagram account (“jasoninthehouse”) with the comment, “So pleased she is not the President. I thanked her for her service and wished her luck. The investigation continues.”\n",
      "Trump, for his part, did not seek Clinton out. Here and there in the crowd there were calls of “Lock her up!” What was she thinking? What was the flow of dismay and regret, anger and sadness, in her head? What thoughts of James Comey and Vladimir Putin, of Paul Manafort and . . . It is the stuff of Shakespeare. Blame her and her campaign for failing to pay sufficient attention to everything from personal e-mail servers to the states of Wisconsin, Michigan, and Pennsylvania. But how can one not credit her with emotional resolve and a largeness of spirit­­—and all in the shadow of the graceless victor? Just showing up was an act of patriotism.\n",
      "“It is so viscerally unappealing and ghoulish, and too fantastical for a movie plot, really,” Jennifer Palmieri, the communications director for Clinton’s campaign, told the Washington Post before the ceremony. “Spectacularly ghoulish. But she will approach it and get through it the way she always does.”\n",
      "Trump, in his spiteful and divisive address, never paused to acknowledge Clinton’s presence or their extended battle for election. Only at a luncheon afterward did Trump ask the Clintons to stand and accept some applause, saying that he was “very, very honored” that they had come. Then Trump, in perhaps the most resoundingly disingenuous sentence in the history of Washington, added, “Honestly, there’s nothing more I can say, because I have a lot of respect for those two people.” The opening “honestly” gave away the game.\n",
      "You have to wonder whether Hillary Clinton will ever be far from Trump’s thoughts. You get the sense that he will still be obsessing over her—vindictively—years from now. In the popular vote, Clinton beat him by 2.1. per cent, nearly three million votes. Trump, characteristically, has tweeted that, no, no, he actually won the popular vote—if you subtract all the illegal voters. And, by the way, she should never have been allowed to run in the first place, because she is “guilty as hell.” At Trump’s one press conference during the transition—a performance of chilling high dudgeon—he raised her name multiple times, gratuitously, defensively.\n",
      "In Beijing, during her husband’s Administration, Hillary Clinton had asserted the equivalence of women’s rights and human rights—an assertive, brave act, considering her audience. In public and in private, on Twitter and on television, on “The Howard Stern Show” and at public rallies in quest of the highest office in the land, Trump revelled in his disdain for the dignity of women—their bodies and their rights.\n",
      "A few days after Election Day, I interviewed President Obama at length. Obama and Clinton often refer to each other as “friends,” despite the trying campaign they ran against each other in the 2008 race. But their relationship is somewhere between professional and friendly, and the election made matters more complex, according to well-informed sources. People in the Obama Administration, if not necessarily Obama himself, were dismayed that she had neither the tactical strength nor the clear message needed to overcome Trump. And the result, of course, was evident immediately, as the new President went straight to the White House to declare his intention to dismantle the Affordable Care Act, a cause dear to both Obama and Clinton.\n",
      "In the long piece I wrote about Obama, I didn’t have the chance to quote him in full about Clinton. When the subject turned to her, he was measured, respectful, sombre.\n",
      "“Look, I said this on the eve of the election, and I continue to believe this is true, that Hillary Clinton would have been an outstanding President,” Obama said. “ I think she’s been an outstanding public servant. By her own admission, she’s not a flashy, inspirational speaker, and is much more relaxed off camera than she is on camera.  But that’s not something she can do something about.  I think you can always second-guess campaigns that have been lost. We could have done this a little bit better or that a little bit better. But the truth is, is that they ran a professional, effective, well-structured campaign, given the information they had and what they knew.”\n",
      "He went on, “I think all of us, and that includes the campaign, felt that there were certain thresholds with respect to somebody becoming President that during the course of the campaign President-elect Trump hadn’t crossed, and I think there was probably some sense internally that because he hadn’t run a traditional campaign or behaved in a traditional way, despite the success that he had shown, that at the end of the day he would not inspire enough overperformance in any sector that it would throw off the data as much as it did. But, you know what? I can’t fault the campaign for not seeing it, because nobody saw it. And so I do believe—and I’ve said this before, so it’s not, I think, sour grapes on the back end—that Hillary Clinton was subjected to a double standard that even by the standards of national politics is unusual.”\n",
      "A double-standard of gender? I asked.\n",
      "“For reasons of gender—a combination of gender and the fact that she had been in the arena for a long time,” Obama replied.\n",
      "It was hard to tell what message Hillary Clinton sent at the Inauguration beyond her sense of duty. (“I’m here to honor our democracy & its enduring values,” she tweeted. “I will never stop believing in our country & its future.”) It was strange to note that among the names of feminists in history that were being honored at the Women’s March on Washington—from Gloria Steinem to Diane Nash to Harriet Tubman—Clinton was not among them. But neither was Elizabeth Cady Stanton. Clinton has probably run her last political campaign, but her appearance at Trump’s Inaugural makes it plain that a retreat to the woods is not an option.\n"
     ]
    }
   ],
   "source": [
    "listofcontent=soup.find_all(\"div\", class_=\"SectionBreak\") \n",
    "parahs=listofcontent[1].find_all('p')\n",
    "for i in parahs:\n",
    "    print(i.get_text())"
   ]
  },
  {
   "cell_type": "markdown",
   "metadata": {},
   "source": [
    "# OR"
   ]
  },
  {
   "cell_type": "code",
   "execution_count": 73,
   "metadata": {},
   "outputs": [
    {
     "name": "stdout",
     "output_type": "stream",
     "text": [
      "A Million Women March was scheduled for Tuesday afternoon in Tahrir Square, to coincide with International Women’s Day. It did not go entirely well. These days, Tahrir Square remains the center of the revolution, although the central mass protest has fractured into smaller, more focussed demonstrations throughout the city. Most days, the struggle in Tahrir Square is between various protesters and the insistent glut of cars, which weave angrily around the crowds. Vendors have turned the square into a market, selling lupini beans squirted with lime, hot tea, pudding, and a growing variety of souvenirs: flags, T-shirts, hats, necklaces and stickers. One vendor was selling a handmade, photocopied history book: “Read it and regret that you were part of the revolution,” he shouted. And, in the middle, there is a tent city of protesters who show no sign of leaving; the ground has been carpeted with sand and there are designated gateways, guarded by volunteer bouncers. The stalwarts are mostly men.\n",
      "The Facebook page advertising the Million Women March was set by Aalam Wassef, the son of Habiba Hassan Wassef, who attended a meeting of women I wrote about in this week’s Talk of the Town. “Of course, there are hundreds of messages,” he told me before the demonstration was due to start, “but we have secured six clear demands for the march today, for women and democracy in general.” One of the demands was that women should be included in the new government, and that there be an end to sexual harassment. The marchers planned to meet by the Egyptian Museum at 2 P.M., and from there join up with groups coming from all over the city.\n",
      "By the protesters’ tents, two young women, one a graduate student at the American University in Cairo, expressed their worries about the future of Egyptian women. “Not even the women are supportive of women’s issues,” Rana, the student, told me. “The constitution implies that the President must be a man. It discriminates against us as citizens. Are we less capable? Fine, then exempt us from taxes.”\n",
      "They had felt the environment change already. The protests calling for Mubarak’s ouster, which had unified men and women, were quickly retreating from people’s minds as their demands grew more specific and fragmented. Rana’s friend, Hoda, said that she had been harassed that day on her walk to the protest. “The men are back to their old habits,” she said.\n",
      "Hibnaq Osman, a Somali woman who works with Karama, an organization that focusses on ending violence against women, approached us. Osman said that she was there to “celebrate the women’s role in the revolution.” The West, Osman said, was baffled by the Egyptian revolution. “How could a bloodless revolution come out of a Muslim country? They expect suicide bombers, terrorism, and the subjugation of women. People are freaking out because all of a sudden the region went out of the box.” She cautiously insisted that we walk amid the male dominated crowd.\n",
      "The men populating the tent city in Tahrir had been gravitating toward the chatting women. They had clearly not checked their Facebook accounts in time to learn of the intended invasion of their informal houses by adamant, outspoken women. What began as a casual, curious eavesdropping soon turned into a series of confrontations.\n",
      "The men were particularly incensed at the notion that a woman could be President of Egypt. It was, they argued, against a hadith which states that men should not take orders from women. “Don’t you obey your mother?” wondered a colleague of mine, an Egyptian whose style of dress often causes her to be mistaken for a foreigner. “I obey religion,” he replied.\n",
      "“They were saying that my opinion did not exist,” my colleague said. “Still, when I asked them to step back, they stepped back.”\n",
      "Men were hardly the only dissenting voices. At one point, a woman in a niqab began screaming at a cluster of people. Her son had died in the protests, and the conduct of the people in Tahrir—particularly the uncovered women—was inappropriate. They were dating, she insisted, not protesting. It was a sad echo of a rumor levelled at the protesters before Mubarak’s resignation, accusing them of KFC-fuelled courtship. Other women objected to the feminist values being voiced, which, they felt, were old-fashioned. Alia Mossallam, a student and writer, said, “There has always been a female presence. If you set yourself apart, you make yourself a spectacle.” Two young women said, simply, “Egypt is in a dangerous time right now. We should wait.”\n",
      "Still, on the elevated concrete median across the street from the tents, Wassef was glowing at the turnout, which he estimated at a thousand. “I am ecstatic,” he said. There had been some negative feedback on the Facebook page, but “you can’t print taboos and expect all positive feedback.” Most of the men on the median were repeating the same argument as that in the square: a female President was forbidden by Islam. But the women were arguing back, and that was important. “It’s like lancing an abscess. What’s coming out is disgusting, but it needs to be done,” Wassef said.\n",
      "Rebecca Chiao, an American woman who founded Harrassmap, which collects cell-phone reports of sexual harassment in Cairo, was handing out stickers advertising the site with fellow activists. “We are holding pink signs and getting into fights,” Chiao said. Harassment had fallen during the revolution, she said, but was steadily rising back to normal levels, although reports from Tahrir remained scarcer. The group was making its way across the median to the other side of the square where, Chiao said, a chorus of beleaguered women needed their voices. They were stopped a lot, making progress slow. “What are these words?” an Egyptian man wondered, pointing at the sign taped to one of Chiao’s companion’s stomach which read: “Private property. Do not touch.” The woman began to explain. “It is right that people shouldn’t harass, but still men and women are different,” he said.” The woman continued to explain; forty-five minutes later, they were still debating.\n",
      "All over the square, women who were on their own were standing firmly in large clusters of angry men, voicing their demands. I asked a red-faced young man why he was tearing up signs and fliers. “Because this is my country. You are not Egyptian,” he said. “You don’t understand.” Another man, hearing our discussion, put it more gently: “Women have some rights already. Right now, it’s not very important. It will happen eventually.” A passing woman shouted, “You have no right to say that! We have different salaries at work. It is very painful.” People began to close in as the two argued, until one woman was arguing with twenty men for her right, basically, to argue at all.\n",
      "When I left, at 5:45, the confrontations were still mostly verbal. Later, though, reports came in of women being harassed or attacked, and pushed from the square. It’s hard to see how, at this moment, anyone would blame that sort of violence on pro-Mubarak thugs. Mubarak is gone. Misogyny might be a tougher foe.\n",
      "Read more from our coverage of the protests in Egypt, Libya, and beyond.\n",
      "Photograph: Jenna Krajeski.\n"
     ]
    }
   ],
   "source": [
    "listofcontent=soup.find_all(\"div\", id=\"articleBody\") \n",
    "\n",
    "\n",
    "parahs=listofcontent[0].find_all('p')\n",
    "for i in parahs:\n",
    "    print(i.get_text())"
   ]
  },
  {
   "cell_type": "code",
   "execution_count": 86,
   "metadata": {},
   "outputs": [],
   "source": [
    "with open(\"article.txt\", 'a') as article:\n",
    "    \n",
    "    article.write(soup.find(\"p\", class_=\"ArticleTimestamp__timestamp___1klks\").get_text()+\"\\t\")\n",
    "    article.write(soup.find(\"h1\").get_text()+\"\\t\")\n",
    "    for i in parahs:\n",
    "        article.write(i.get_text()+\"  \")"
   ]
  },
  {
   "cell_type": "code",
   "execution_count": 23,
   "metadata": {},
   "outputs": [
    {
     "data": {
      "text/plain": [
       "'The Changing Shape of Protests in the Second Year of the Trump Era'"
      ]
     },
     "execution_count": 23,
     "metadata": {},
     "output_type": "execute_result"
    }
   ],
   "source": [
    "soup.find(\"h1\").get_text()"
   ]
  },
  {
   "cell_type": "code",
   "execution_count": null,
   "metadata": {},
   "outputs": [],
   "source": []
  }
 ],
 "metadata": {
  "kernelspec": {
   "display_name": "Python 3",
   "language": "python",
   "name": "python3"
  },
  "language_info": {
   "codemirror_mode": {
    "name": "ipython",
    "version": 3
   },
   "file_extension": ".py",
   "mimetype": "text/x-python",
   "name": "python",
   "nbconvert_exporter": "python",
   "pygments_lexer": "ipython3",
   "version": "3.6.6"
  }
 },
 "nbformat": 4,
 "nbformat_minor": 2
}
