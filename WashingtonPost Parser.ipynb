{
 "cells": [
  {
   "cell_type": "markdown",
   "metadata": {},
   "source": [
    "# Removing \\t from articles' texts"
   ]
  },
  {
   "cell_type": "code",
   "execution_count": 186,
   "metadata": {},
   "outputs": [],
   "source": [
    "with open(\"news1.txt\", 'a') as s:\n",
    "    with open(\"news.txt\", 'r') as f:\n",
    "        for i in f:\n",
    "            s.write(i.rstrip('\\n'))"
   ]
  },
  {
   "cell_type": "code",
   "execution_count": 3,
   "metadata": {},
   "outputs": [],
   "source": [
    "import bs4, re, requests\n",
    "from bs4 import BeautifulSoup"
   ]
  },
  {
   "cell_type": "code",
   "execution_count": 133,
   "metadata": {},
   "outputs": [],
   "source": [
    "link=\"https://www.washingtonpost.com/news/dr-gridlock/wp/2017/01/22/womens-march-leads-to-2nd-busiest-day-in-metro-history-just-trailing-obamas-09-inauguration/\""
   ]
  },
  {
   "cell_type": "code",
   "execution_count": 134,
   "metadata": {},
   "outputs": [],
   "source": [
    "req = requests.get(link)\n",
    "soup = BeautifulSoup(req.text, 'html.parser')\n"
   ]
  },
  {
   "cell_type": "markdown",
   "metadata": {},
   "source": [
    "## to be sure text is here"
   ]
  },
  {
   "cell_type": "code",
   "execution_count": 135,
   "metadata": {
    "scrolled": true
   },
   "outputs": [
    {
     "name": "stdout",
     "output_type": "stream",
     "text": [
      "The Women’s March on Washington led to Metro’s second-busiest day in history, as hundreds of thousands of revelers poured into the District, taking more than a million trips on the system in 19 hours of service.\n",
      "The figures surpassed ridership for Friday’s presidential inauguration and trailed just behind President Obama’s record-setting inauguration in 2009, when 1.1 million trips were taken.\n",
      "Metro General Manager Paul J. Wiedefeld said Metro recorded 1,001,613 station entries Saturday; by contrast, 570,557 trips were taken Friday, the day of President Trump’s inauguration as the 45th president.\n",
      "[Women’s marches: More than one million protesters vow to resist President Trump]\n",
      "In a memo to staff, Wiedefeld praised his workforce for handling an unprecedented volume of passengers over the weekend. Besides the 2009 inauguration and Saturday’s march, Metro’s three other busiest days came during the April 2010 Cherry Blossom Festival.\n",
      "“I want to express my deep appreciation to every employee who made this weekend a terrific success for Metro and the national capital region,” Wiedefeld said. “I am so proud of what our team accomplished. We demonstrated to the region and riders from across the nation that we are capable of delivering world-class service.”\n",
      "Wiedefeld said between Friday and Saturday, Metro buses, trains and paratransit vehicles took passengers on more than 2 million trips.\n",
      "Nearly 1.6 million of those trips were taken on Metrorail.\n",
      "“We can all feel proud of providing safe, reliable service for large numbers of riders over two consecutive days on a world stage,” Wiedefeld said. “This success is especially impressive given the monumental challenge of sustaining such an operation over back-to-back days, along with the logistical challenges that come from national special security events. As most people returned home to their families, Metro employees continue working today and preparing for tomorrow’s commute.”\n",
      "Metro initially hadn’t planned to adjust Saturday service for the march, but later decided to open two hours early and add trains to accommodate the expected crowds.\n",
      "The latest ridership numbers came a day after White House spokesman Sean Spicer falsely claimed that 420,000 people used Metro for the Trump inauguration, compared to 317,000 for President Obama’s second inauguration in 2013.\n",
      "[Spicer earns Four Pinocchios for a series of false claims on inauguration crowd size]\n",
      "In fact, Metro trips on inauguration day this year totaled 570,557, while the 2013 figure stood at about 782,000.\n",
      "A Metro spokesman declined comment on the White House’s claims.\n",
      "[Challenged on falsehoods, adviser says Trump team has ‘alternative facts’]\n"
     ]
    }
   ],
   "source": [
    "listofcontent=soup.find(\"article\", class_=\"paywall\") \n",
    "for i in listofcontent.find_all(\"p\"):\n",
    "    print(i.get_text())"
   ]
  },
  {
   "cell_type": "code",
   "execution_count": 136,
   "metadata": {},
   "outputs": [],
   "source": [
    "with open(\"article.txt\", 'a') as article:\n",
    "    \n",
    "    article.write(soup.find(\"span\", class_=\"author-timestamp\").get_text()+\"\\t\")\n",
    "    article.write(soup.find(\"h1\").get_text()+\"\\t\")\n",
    "    for i in listofcontent.find_all(\"p\"):\n",
    "        article.write(i.get_text()+\"  \")"
   ]
  },
  {
   "cell_type": "code",
   "execution_count": null,
   "metadata": {},
   "outputs": [],
   "source": []
  }
 ],
 "metadata": {
  "kernelspec": {
   "display_name": "Python 3",
   "language": "python",
   "name": "python3"
  },
  "language_info": {
   "codemirror_mode": {
    "name": "ipython",
    "version": 3
   },
   "file_extension": ".py",
   "mimetype": "text/x-python",
   "name": "python",
   "nbconvert_exporter": "python",
   "pygments_lexer": "ipython3",
   "version": "3.6.6"
  }
 },
 "nbformat": 4,
 "nbformat_minor": 2
}
