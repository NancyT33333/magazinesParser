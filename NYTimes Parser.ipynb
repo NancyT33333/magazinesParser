{
 "cells": [
  {
   "cell_type": "markdown",
   "metadata": {},
   "source": [
    "# Removing \\t from articles' texts"
   ]
  },
  {
   "cell_type": "code",
   "execution_count": 160,
   "metadata": {},
   "outputs": [],
   "source": [
    "with open(\"news1.txt\", 'a') as s:\n",
    "    with open(\"article.txt\", 'r') as f:\n",
    "        for i in f:\n",
    "            s.write(i.rstrip('\\n'))"
   ]
  },
  {
   "cell_type": "code",
   "execution_count": 2,
   "metadata": {},
   "outputs": [],
   "source": [
    "import bs4, re, requests\n",
    "from bs4 import BeautifulSoup"
   ]
  },
  {
   "cell_type": "code",
   "execution_count": 352,
   "metadata": {},
   "outputs": [],
   "source": [
    "link=\"https://www.nytimes.com/2017/10/13/opinion/put-women-in-charge.html\""
   ]
  },
  {
   "cell_type": "code",
   "execution_count": 353,
   "metadata": {},
   "outputs": [],
   "source": [
    "req = requests.get(link)\n",
    "soup = BeautifulSoup(req.text, 'html.parser')\n"
   ]
  },
  {
   "cell_type": "code",
   "execution_count": 354,
   "metadata": {},
   "outputs": [],
   "source": [
    "listofcontent=soup.find_all(\"p\", class_=\"evys1bk0\") "
   ]
  },
  {
   "cell_type": "markdown",
   "metadata": {},
   "source": [
    "# OR"
   ]
  },
  {
   "cell_type": "code",
   "execution_count": 253,
   "metadata": {
    "scrolled": true
   },
   "outputs": [],
   "source": [
    "listofcontent=soup.find_all(\"p\", class_=\"g-body\")  \n"
   ]
  },
  {
   "cell_type": "markdown",
   "metadata": {},
   "source": [
    "## to be sure text is here"
   ]
  },
  {
   "cell_type": "code",
   "execution_count": 355,
   "metadata": {
    "scrolled": true
   },
   "outputs": [
    {
     "name": "stdout",
     "output_type": "stream",
     "text": [
      "Most women I know — and probably most women you know — have stories about sexual harassment. Mine happened in college, with a professor who was older than my father and who made me think he was genuinely interested in my writing. One day in his office, he told me he wanted to “kiss and molest” me. I muttered something about having a boyfriend and fled.\n",
      "As stories like this go, I got off easy. I remember thinking at the time, “Huh, so this is sexual harassment.” I wasn’t particularly traumatized, but it was a blow to my faith in my own talents. I felt ridiculous for having believed that this man, whom I very much admired, saw me as a person with promise instead of an easy mark.\n",
      "Cumulatively, incidents like this erode women’s self-confidence and make it hard for them to find mentors as their male peers do. But in my case, there was no accumulation; I never again experienced anything like it. There’s plenty of harassment in the media; in the wake of the Harvey Weinstein scandal, some women passed around an anonymous, crowd-sourced Google Doc listing men in my industry accused of sexual transgressions. I’d heard some of these stories but have somehow been immune since that office visit so many years ago. Why?\n",
      "I’m sure the friendly people on the internet will say it’s because I’m undesirable, but despite the Weinstein affair, it’s not just dewy bombshells who experience harassment. Maybe I’ve simply been lucky. But I credit the fact that I worked at a succession of publications — Salon, Newsweek and The Daily Beast, The Nation, Slate — headed, for most of the time I was there, by women. (This was unusual; as of 2016, according to the American Society of News Editors, women still made up only 37.11 percent of “newsroom leaders.”) The books I’ve published have been acquired and edited by women. For most of my 20s and 30s, I never had to worry that getting ahead in my career meant staying in the good graces of a straight man.\n",
      "More women should have the same privilege. Since the Weinstein scandal broke, several conservative men have argued for a greater separation of the sexes at work. “Think: If Weinstein had obeyed @VP Pence’s rules for meeting with the opposite sex, none of those poor women would ever have been abused,” tweeted the former White House aide Sebastian Gorka, referring to Pence’s refusal to dine alone with women other than his wife. But the Pence rule, broadly applied, would penalize women while purporting to protect them, since women’s careers suffer when they can’t build personal relationships with important people in their fields. A better way to at least begin to address the endless problem of men misusing their power is to put more women in charge.\n",
      "Obviously, female bosses can be abusive and can create cultures where abusive behavior toward underlings is tolerated. But women may face less harassment at companies with fewer straight men at the top. Research “shows that when workplace power disparities are gendered (e.g., most of the support staff are women and most of the executives are men), more harassment may occur,” says a 2016 study of sexual harassment from the Equal Employment Opportunity Commission. Claire Cain Miller recently wrote in The Times, “In interviews, women in companies with many female or gay executives were more likely to say one-on-one relationships had never been an issue for them.”\n",
      "After Hillary Clinton’s shattering loss, it sometimes seems like female leadership itself has fallen out of fashion. The president is a misogynist thug who has boasted of some of the same crimes Weinstein is being pilloried for. His daughter and adviser, Ivanka Trump, mouths platitudes about female empowerment while supporting the rollback of a federal rule on equal pay. Her attempt to portray herself as a champion of “Women Who Work,” the title of her most recent book, seems tailor-made to support left-wing critiques of what’s sometimes called “corporate feminism,” a feminism that fetishizes the success of elite women.\n",
      "In this moment of backlash and retrenchment, the type of “You go, girl” feminism obsessed with professional cheerleading and pop culture affirmation has come to feel as dated as shoulder pads. Feminism’s energy has shifted left, toward women who want to dismantle the ruling class, not diversify it. When “broader female access to executive perches in Wall Street and Silicon Valley gets treated as some sort of movement-wide victory, then something clearly has gone wrong in our understanding of what feminism is and can do,” Jessa Crispin wrote in The New Republic. As if to underline her point, the financial firm that installed the “Fearless Girl” statue opposite the “Charging Bull” on Wall Street recently paid $5 million to settle charges of gender and racial pay discrimination, turning the artwork from a symbol of female moxie into one of corporate hypocrisy.\n",
      "Nevertheless, as long as we have a hierarchal society, the gender of those at the top matters. In any field where women consistently have to please men to realize their ambitions — or simply to survive — there will be exploitation. Right now, that’s almost every field, and that’s what has to change. No woman just starting out should ever be told she has to choose between working for a Harvey Weinstein and working for a Mike Pence. If there must be bosses, fewer of them should be men.\n"
     ]
    }
   ],
   "source": [
    "for i in listofcontent:\n",
    "    print(i.get_text())"
   ]
  },
  {
   "cell_type": "code",
   "execution_count": 356,
   "metadata": {},
   "outputs": [],
   "source": [
    "with open(\"article.txt\", 'a') as article:\n",
    "    article.write(link+\"\\t\")\n",
    "    article.write(soup.find(\"time\").get_text()+\"\\t\")\n",
    "    article.write(soup.find(\"h1\").get_text()+\"\\t\")\n",
    "    for i in listofcontent:\n",
    "        article.write(i.get_text()+\"  \")"
   ]
  },
  {
   "cell_type": "code",
   "execution_count": 111,
   "metadata": {},
   "outputs": [
    {
     "data": {
      "text/plain": [
       "'\\n2017-01-21T13:35:37-05:00\\nJanuary 21, 2017\\n 1:35 PM ET\\n'"
      ]
     },
     "execution_count": 111,
     "metadata": {},
     "output_type": "execute_result"
    }
   ],
   "source": [
    "soup.find(\"time\").get_text()"
   ]
  },
  {
   "cell_type": "code",
   "execution_count": 179,
   "metadata": {},
   "outputs": [
    {
     "ename": "AttributeError",
     "evalue": "'NoneType' object has no attribute 'get_text'",
     "output_type": "error",
     "traceback": [
      "\u001b[0;31m---------------------------------------------------------------------------\u001b[0m",
      "\u001b[0;31mAttributeError\u001b[0m                            Traceback (most recent call last)",
      "\u001b[0;32m<ipython-input-179-9474cfc0cb74>\u001b[0m in \u001b[0;36m<module>\u001b[0;34m()\u001b[0m\n\u001b[0;32m----> 1\u001b[0;31m \u001b[0msoup\u001b[0m\u001b[0;34m.\u001b[0m\u001b[0mfind\u001b[0m\u001b[0;34m(\u001b[0m\u001b[0;34m\"span\"\u001b[0m\u001b[0;34m,\u001b[0m \u001b[0mclass_\u001b[0m\u001b[0;34m=\u001b[0m\u001b[0;34m\"css-fwqvlz\"\u001b[0m\u001b[0;34m)\u001b[0m\u001b[0;34m.\u001b[0m\u001b[0mget_text\u001b[0m\u001b[0;34m(\u001b[0m\u001b[0;34m)\u001b[0m\u001b[0;34m\u001b[0m\u001b[0m\n\u001b[0m",
      "\u001b[0;31mAttributeError\u001b[0m: 'NoneType' object has no attribute 'get_text'"
     ]
    }
   ],
   "source": [
    "soup.find(\"span\", class_=\"css-fwqvlz\").get_text()"
   ]
  },
  {
   "cell_type": "code",
   "execution_count": 110,
   "metadata": {},
   "outputs": [
    {
     "data": {
      "text/plain": [
       "'\\n\\n\\tWhat We Saw as Trump Took Office\\n\\t\\n'"
      ]
     },
     "execution_count": 110,
     "metadata": {},
     "output_type": "execute_result"
    }
   ],
   "source": [
    "soup.find(\"h1\").get_text()"
   ]
  },
  {
   "cell_type": "code",
   "execution_count": 208,
   "metadata": {},
   "outputs": [
    {
     "name": "stdout",
     "output_type": "stream",
     "text": [
      "When I joined the 470,000 other women who walked down Constitution Avenue toward the National Mall on Jan. 21, the day after Donald Trump’s inauguration, I carried a sign saying, “Don’t Forget, White Women Voted for Trump.”  \n",
      "My message stood in stark contrast to the theme of togetherness that dominated the Women’s March — the pink “pussy hats” and “girl power” placards, and chants about how women would lead the resistance. This was exactly the point. I made the sign to communicate that in a world where 53 percent of white women voters chose a racist, elitist sexual predator for president, the idea that we all want the same thing is a myth.  \n",
      "The point wasn’t to antagonize the Women’s March participants, who were mostly white. Rather, I wanted to highlight that on a national level, white women are not unified in opposition to Trumpism and can’t be counted on to fight it. Instead, it’s the identity, experience and leadership of black women that we must look to.  \n",
      "Democrats want to position themselves as a pro-woman, pro-immigrant, pro-equality party. We do ourselves a disservice if we believe the myth that a majority of white women voting in the era of Trump are moved by that message. The numbers don’t lie: For many white women, it’s racial identity, not gender or party, that guides their choices in the voting booth. As my sign pointed out, in 2016 more than half of white female voters chose Mr. Trump. A year later, in Virginia, 51 percent of white women voted for the Republican Ed Gillespie, who lost after running an anti-immigrant, white-nationalist-sympathizing, Steve Bannon-backed campaign for governor.  \n",
      "Last week, by late Tuesday evening, we learned that two-thirds of white female voters in Alabama had once again voted for the Trump agenda, casting ballots for Roy Moore, a man accused of sexually assaulting teenagers and one with a dismal record on civil rights who was on tape saying the country was last “great” during slavery.  \n",
      "Despite this, the Democratic candidate, Doug Jones, was able to score an unlikely victory thanks to the historic turnout of black voters — specifically, black women. A full 98 percent cast ballots for Mr. Jones. Ninety-eight percent.  \n",
      "If I had to make another sign after the Alabama election, it would say this: “Bet on black women. Follow black women. Give power to black women.” I’d wave it in front of the headquarters of the Democratic National Committee and every political start-up’s office, and pass out copies to all those emerging resistance groups.  \n",
      "At a time when others are clinging to or are willing to tolerate political messages rooted in white nationalism and fear, black women are the voters who’ve consistently rejected these things. We’re keenly aware that issues that affect us and our communities are always on the ballot, whether it’s access to lifesaving health care, the fight to save public schools, or the imminent threat of police violence and harassment. We know we don’t have the option to sit out elections.  \n",
      "It’s our insight here that Democrats should look to. The issues about which we’re informed and passionate affect Americans of all races and genders, even if others may not use their votes as wisely as we do.  \n",
      "We don’t just vote; we lead as well by mobilizing our communities to vote. In Alabama, leaders like Lenice C. Emanuel of the Alabama Institute for Social Justice and Felecia Lucky of the Black Belt Community Foundation spent years building the infrastructure that led to Tuesday night’s victory. In Virginia, projects like In Charge: Black Women Taking Action tapped into the turnout power of black women to engage over 300 black female volunteers and contact nearly 5,000 voters in the final three weeks before Election Day.  \n",
      "BlackPAC, led by Adrianne Shropshire, was on the ground before the elections in Virginia and in Alabama, with an army of canvassers. Other groups led by black women, like the Movement for Black Lives Electoral Project, Woke Vote and Southerners on New Ground, do this work across the country and need support.  \n",
      "Instead of taking this political talent, enthusiasm and energy for granted — and instead of wasting energy on white voters who don’t share its values — the Democratic Party should invest in amplifying black women’s proven dedication to the party. As a first step, perhaps some would-be candidates who think of themselves as “next in line” should step aside and make space for more black women like Tishaura Jones in St. Louis and Stacey Abrams in Georgia.  \n",
      "Black women are being widely credited for saving the day in Alabama, and that credit is one small step in the right direction. But we don’t need thanks — we need you to get out of the way and follow our lead.  \n"
     ]
    }
   ],
   "source": [
    "for i in listofcontent:\n",
    "        print(i.get_text()+\"  \")"
   ]
  },
  {
   "cell_type": "code",
   "execution_count": 255,
   "metadata": {},
   "outputs": [
    {
     "name": "stdout",
     "output_type": "stream",
     "text": [
      "Supported by\n",
      "Mr. Trump, in a Twitter post, said that Patrick M. Shanahan, Mr. Mattis’s deputy, would serve as the acting defense secretary.\n",
      "Mr. Trump increasingly blames the Fed for the downtrend in stock prices. Some investors say the president himself is the bigger problem.\n",
      "With a resolution further out of grip, a sense of resignation settled over lawmakers, in a sharp contrast to the frenzied political warfare of previous shutdowns.\n",
      "“We don’t work as Democrats or Republicans,” he has said, a theme he has returned to while trying to strike a delicate balance as the chief justice.\n",
      "As the second anniversary of the Women’s March approaches, charges of anti-Semitism are overshadowing the movement and plans for more marches.\n",
      "By \n",
      "Farah Stockman\n",
      "Massacres are frequently carried out by killers using military-grade equipment that’s easier to obtain when buying on credit.\n",
      "By \n",
      "Andrew Ross Sorkin\n",
      "By \n",
      "James Barron\n",
      "By \n",
      "Corey Kilgannon\n",
      "By \n",
      "Patrick Kingsley\n",
      "By \n",
      "Adam Nossiter\n",
      "By \n",
      "Miriam Jordan\n",
      "By \n",
      "Miriam Jordan\n",
      "By \n",
      "Alexandra Alter\n",
      "By \n",
      "Brian J. O’Connor\n",
      "By \n",
      "Jason Zinoman\n",
      "By \n",
      "Peter Libbey\n",
      "By \n",
      "The daily newspaper, reimagined for the Web. Available to subscribers.\n",
      "By \n",
      "Patrick Kingsley\n",
      "By \n",
      "Yonette Joseph\n",
      "By \n",
      "Ben C. Solomon\n",
      "By \n",
      "Miriam Jordan\n",
      "By \n",
      "Miriam Jordan\n",
      "By \n",
      "Mitchell Ferman\n",
      "By \n",
      "Richard Sandomir\n",
      "By \n",
      "Katharine Q. Seelye\n",
      "By \n",
      "Joseph B. Treaster\n",
      "By \n",
      "The Editorial Board\n",
      "By \n",
      "The Editorial Board\n",
      "By \n",
      "Aaron Ross Coleman\n",
      "By \n",
      "Corey Kilgannon\n",
      "By \n",
      "By \n",
      "Natasha Singer\n",
      "By \n",
      "Alexandra Alter\n",
      "By \n",
      "Brian J. O’Connor\n",
      "By \n",
      "By \n",
      "John Branch\n",
      "By \n",
      "The Associated Press\n",
      "By \n",
      "Brooks Barnes\n",
      "By \n",
      "Jason Zinoman\n",
      "By \n",
      "Peter Libbey\n"
     ]
    }
   ],
   "source": [
    "listofcontent=soup.find_all(\"p\")  \n",
    "\n",
    "for i in listofcontent:\n",
    "    for j in i.contents:\n",
    "        if j.string is not None and j.string!=\"Advertisement\":\n",
    "            print(j.string)\n"
   ]
  },
  {
   "cell_type": "code",
   "execution_count": 159,
   "metadata": {},
   "outputs": [],
   "source": [
    "with open(\"article.txt\", 'a') as article:\n",
    "    article.write(link.rstrip('\\n')+\"\\t\")\n",
    "    article.write(soup.find(\"time\").get_text().rstrip('\\n')+\"\\t\")\n",
    "    article.write(soup.find(\"h1\").get_text().rstrip('\\n')+\"\\t\")\n",
    "    for i in listofcontent:\n",
    "         for j in i.contents:\n",
    "            if j.string is not None and j.string!=\"Advertisement\":\n",
    "            \n",
    "                article.write(j.string.rstrip('\\n')+\" \")"
   ]
  },
  {
   "cell_type": "code",
   "execution_count": null,
   "metadata": {},
   "outputs": [],
   "source": []
  }
 ],
 "metadata": {
  "kernelspec": {
   "display_name": "Python 3",
   "language": "python",
   "name": "python3"
  },
  "language_info": {
   "codemirror_mode": {
    "name": "ipython",
    "version": 3
   },
   "file_extension": ".py",
   "mimetype": "text/x-python",
   "name": "python",
   "nbconvert_exporter": "python",
   "pygments_lexer": "ipython3",
   "version": "3.6.6"
  }
 },
 "nbformat": 4,
 "nbformat_minor": 2
}
