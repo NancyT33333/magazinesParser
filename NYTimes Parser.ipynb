{
 "cells": [
  {
   "cell_type": "markdown",
   "metadata": {},
   "source": [
    "# Removing \\t from articles' texts"
   ]
  },
  {
   "cell_type": "code",
   "execution_count": 186,
   "metadata": {},
   "outputs": [],
   "source": [
    "with open(\"news1.txt\", 'a') as s:\n",
    "    with open(\"news.txt\", 'r') as f:\n",
    "        for i in f:\n",
    "            s.write(i.rstrip('\\n'))"
   ]
  },
  {
   "cell_type": "code",
   "execution_count": 2,
   "metadata": {},
   "outputs": [],
   "source": [
    "import bs4, re, requests\n",
    "from bs4 import BeautifulSoup"
   ]
  },
  {
   "cell_type": "code",
   "execution_count": 1,
   "metadata": {},
   "outputs": [],
   "source": [
    "link=\"https://www.nytimes.com/2017/01/12/opinion/race-issues-and-the-womens-march-on-washington.html\""
   ]
  },
  {
   "cell_type": "code",
   "execution_count": 3,
   "metadata": {},
   "outputs": [],
   "source": [
    "req = requests.get(link)\n",
    "soup = BeautifulSoup(req.text, 'html.parser')\n"
   ]
  },
  {
   "cell_type": "code",
   "execution_count": 183,
   "metadata": {
    "scrolled": true
   },
   "outputs": [],
   "source": [
    "listofcontent=soup.find_all(\"p\", class_=\"g-body\")  \n"
   ]
  },
  {
   "cell_type": "markdown",
   "metadata": {},
   "source": [
    "# OR"
   ]
  },
  {
   "cell_type": "code",
   "execution_count": 4,
   "metadata": {},
   "outputs": [],
   "source": [
    "listofcontent=soup.find_all(\"p\", class_=\"evys1bk0\") "
   ]
  },
  {
   "cell_type": "markdown",
   "metadata": {},
   "source": [
    "## to be sure text is here"
   ]
  },
  {
   "cell_type": "code",
   "execution_count": 5,
   "metadata": {
    "scrolled": true
   },
   "outputs": [
    {
     "name": "stdout",
     "output_type": "stream",
     "text": [
      "To the Editor:\n",
      "Re “Women’s March Opens a Raw Dialogue on Race” (front page, Jan. 10):\n",
      "Women are bickering on social media about who deserves to take part in the Women’s March on Washington? Am I too white, too privileged, too old? Imagine the chortles coming from 1600 Pennsylvania Avenue on Jan. 21 over the division in the opposition. That should be enough to encourage us to join hands, as we need to do, and march forward.\n",
      "CHERYL McKEON\n",
      "Walnut Creek, Calif.\n",
      "To the Editor:\n",
      "The dialogue on race has to happen, however painful or confrontational. To Jennifer Willis, who is highlighted in your article, and other women who don’t feel welcome at the Women’s March on Washington for any reason, I would remind them that no one owns this march — it belongs to all women.\n",
      "Don’t wait for an engraved invitation to join the march as a guest of some sort. Step up for yourself, claim your place at the table, your power. Show up. You have as much right as anyone to be there.\n",
      "LISA J. DANIELS\n",
      "New York\n",
      "To the Editor:\n",
      "I am a white woman. I work in the South Bronx. I feel my privilege every day from when the New York Police Department doesn’t give me a second glance to getting served first when I am in a deli.\n",
      "But I also know this: When I walk down the street and something happens, so many times my eyes have met the eyes of other women walking by — other women of different races — and we’ve smiled or spoken to one another or just shook our heads. At that moment, we are women. The color of our skin doesn’t matter.\n",
      "I am reminded of the words of Shirley Chisholm, the first African-American woman elected to Congress: “Of my two handicaps, being female put many more obstacles in my path than being black.”\n",
      "I firmly believe we should have conversations on race, but I also believe that we are women first.\n",
      "KIMBERLY MARCUS\n",
      "Tarrytown, N.Y.\n",
      "To the Editor:\n",
      "Too many of us who are white and consider ourselves progressive are silent about racism. We say we’re against racism, yet we do nothing about it. When challenged, we become confused, defensive, hurt, even angry. We react, but we rarely explore our history, our opinions, our biases.\n",
      "I am a 76-year-old white woman from Mississippi. I am taking the bus to the Women’s March on Washington because I am convinced such public actions are essential to a healthy democracy. I invite other women to march with me in Washington, and urge us to break our silence about racism.\n",
      "MARGERY FREEMAN\n",
      "\n",
      "McComb, Miss.\n",
      "To the Editor:\n",
      "I was saddened to read that race issues are polarizing the Women’s March on Washington. If ever there was a time for unity, this is it. How offensive that a black activist “advised ‘white allies’ to listen more and talk less.” Such statements illustrate that microaggressions can go both ways. It is this kind of polarizing rhetoric that got Donald Trump elected in the first place.\n",
      "SUSAN KOLOD\n",
      "New York\n",
      "The writer is a psychoanalyst who writes about women’s issues.\n",
      "To the Editor:\n",
      "I’m sorry about the internecine fighting reported. For me, the March on Washington is secondarily about racial, class and women’s issues. I’ll be participating, first and foremost, as a citizen to protest the incoming administration.\n",
      "SARAH LAMSTEIN\n",
      "Newton, Mass.\n",
      "To the Editor:\n",
      "The rancor and misunderstanding in some of the exchanges reported here are a serious threat to the Women’s March as well as the larger mission of addressing the status of women in the United States. It is hard to argue that white women in rural America are privileged because they are white. Opportunities are limited, jobs are few and the cost of higher education can make it out of reach for most.\n",
      "We don’t hear much from these women, but they have the same concerns as minority women. The issues that unite us are economic. We need to check race at the door if we are to make progress.\n",
      "SABINA M. GASPER\n",
      "Bismarck, N.D.\n"
     ]
    }
   ],
   "source": [
    "for i in listofcontent:\n",
    "    print(i.get_text())"
   ]
  },
  {
   "cell_type": "code",
   "execution_count": 6,
   "metadata": {},
   "outputs": [],
   "source": [
    "with open(\"article.txt\", 'a') as article:\n",
    "    \n",
    "    article.write(soup.find(\"time\").get_text()+\"\\n\")\n",
    "    article.write(soup.find(\"span\", class_=\"css-fwqvlz\").get_text()+\"\\n\")\n",
    "    for i in listofcontent:\n",
    "        article.write(i.get_text()+\"  \")"
   ]
  },
  {
   "cell_type": "code",
   "execution_count": 95,
   "metadata": {},
   "outputs": [
    {
     "data": {
      "text/plain": [
       "'Jan. 24, 2017'"
      ]
     },
     "execution_count": 95,
     "metadata": {},
     "output_type": "execute_result"
    }
   ],
   "source": [
    "soup.find(\"time\").get_text()"
   ]
  },
  {
   "cell_type": "code",
   "execution_count": 96,
   "metadata": {},
   "outputs": [
    {
     "data": {
      "text/plain": [
       "'After the Women’s March'"
      ]
     },
     "execution_count": 96,
     "metadata": {},
     "output_type": "execute_result"
    }
   ],
   "source": [
    "soup.find(\"span\", class_=\"css-fwqvlz\").get_text()"
   ]
  },
  {
   "cell_type": "code",
   "execution_count": null,
   "metadata": {},
   "outputs": [],
   "source": []
  }
 ],
 "metadata": {
  "kernelspec": {
   "display_name": "Python 3",
   "language": "python",
   "name": "python3"
  },
  "language_info": {
   "codemirror_mode": {
    "name": "ipython",
    "version": 3
   },
   "file_extension": ".py",
   "mimetype": "text/x-python",
   "name": "python",
   "nbconvert_exporter": "python",
   "pygments_lexer": "ipython3",
   "version": "3.6.6"
  }
 },
 "nbformat": 4,
 "nbformat_minor": 2
}
